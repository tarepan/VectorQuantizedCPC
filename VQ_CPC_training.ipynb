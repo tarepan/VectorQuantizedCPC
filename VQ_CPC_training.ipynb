{
  "cells": [
    {
      "cell_type": "markdown",
      "metadata": {
        "id": "tdhd5TPUAST9"
      },
      "source": [
        "# VQ-CPC: Training\n",
        "[![Generic badge](https://img.shields.io/badge/GitHub-VQ_CPC-9cf.svg)][github]\n",
        "[![Open In Colab](https://colab.research.google.com/assets/colab-badge.svg)][notebook]\n",
        "\n",
        "Notebook Author: [tarepan]\n",
        "\n",
        "[github]:https://github.com/tarepan/VectorQuantizedCPC\n",
        "[notebook]:https://colab.research.google.com/github/tarepan/VectorQuantizedCPC/blob/master/VQ_CPC_training.ipynb\n",
        "[tarepan]:https://github.com/tarepan"
      ]
    },
    {
      "cell_type": "markdown",
      "metadata": {
        "id": "aZfpauCQEkhx"
      },
      "source": [
        "Reconstruction & Voice Conversion of Zerospeech2019 dataset with pretrained VQ-CPC."
      ]
    },
    {
      "cell_type": "markdown",
      "metadata": {
        "id": "K125Ein7VCwM"
      },
      "source": [
        "## Setup"
      ]
    },
    {
      "cell_type": "code",
      "execution_count": null,
      "metadata": {
        "id": "DW3nHnpaBesa"
      },
      "outputs": [],
      "source": [
        "# Clone the repository\n",
        "!git clone https://github.com/tarepan/VectorQuantizedCPC.git\n",
        "%cd VectorQuantizedCPC\n",
        "\n",
        "# Install dependencies\n",
        "!pip install -r requirements.txt"
      ]
    },
    {
      "cell_type": "code",
      "execution_count": null,
      "metadata": {
        "id": "X69I5NL8sJTr"
      },
      "outputs": [],
      "source": [
        "# Download ZeroSpeech2019En & model weights\n",
        "## Dataset\n",
        "!wget --no-check-certificate https://download.zerospeech.com/2019/english.tgz\n",
        "!mkdir -p zerospeech/2019\n",
        "!tar xvzf english.tgz -C ./zerospeech/2019\n",
        "## Train/Test split\n",
        "! wget https://github.com/bshall/VectorQuantizedCPC/releases/download/v0.1/datasets.zip\n",
        "! unzip datasets.zip\n",
        "## Pretrained weights\n",
        "! wget https://github.com/bshall/VectorQuantizedCPC/releases/download/v0.1/checkpoints.zip\n",
        "! unzip checkpoints.zip\n",
        "\n",
        "# Preprocess dataset\n",
        "!python preprocess.py in_dir=zerospeech/2019 dataset=2019/english"
      ]
    },
    {
      "cell_type": "markdown",
      "metadata": {
        "id": "aFAWWRdFlohV"
      },
      "source": [
        "## Training"
      ]
    },
    {
      "cell_type": "markdown",
      "metadata": {},
      "source": [
        "### Vocoder"
      ]
    },
    {
      "cell_type": "code",
      "execution_count": null,
      "metadata": {},
      "outputs": [],
      "source": [
        "!python train_vocoder.py \\\n",
        "    cpc_checkpoint=checkpoints/cpc/english2019/model.ckpt-22000.pt \\\n",
        "    checkpoint_dir=checkpoints/vocoder/english2019/version1 \\\n",
        "    dataset=2019/english"
      ]
    },
    {
      "cell_type": "markdown",
      "metadata": {},
      "source": [
        "## Evaluation"
      ]
    },
    {
      "cell_type": "markdown",
      "metadata": {
        "id": "4yyPrl2TbJqz"
      },
      "source": [
        "### Reconstruction"
      ]
    },
    {
      "cell_type": "code",
      "execution_count": null,
      "metadata": {
        "id": "A2snJiZ1bMFK"
      },
      "outputs": [],
      "source": [
        "# Data selection: Reconstruct 5 utterances from 5 speakers.\n",
        "\n",
        "import json\n",
        "\n",
        "origin_A = [\n",
        "  [\"S021\", \"0333236104\"], \n",
        "  [\"S023\", \"0136759263\"], \n",
        "  [\"S027\", \"0007162015\"],\n",
        "  [\"S031\", \"0024528166\"],\n",
        "  [\"S032\", \"0057067061\"],\n",
        "]\n",
        "\n",
        "reconstruction_spec = []\n",
        "for (spk_org, utter_id) in origin_A:\n",
        "  spk_tgt = spk_org\n",
        "  reconstruction_spec.append([f\"english/train/unit/{spk_org}_{utter_id}\", spk_tgt, f\"{spk_org}_to_{spk_tgt}_{utter_id}\"])\n",
        "content_reconstruction = json.dumps(reconstruction_spec)\n",
        "\n",
        "with open(\"./target.json\", mode=\"w\") as f:\n",
        "    f.write(content_reconstruction)"
      ]
    },
    {
      "cell_type": "code",
      "execution_count": null,
      "metadata": {
        "id": "oUMrmpo7btiT"
      },
      "outputs": [],
      "source": [
        "# Reconstruction\n",
        "!python convert.py cpc_checkpoint=checkpoints/cpc/english2019/model.ckpt-22000.pt vocoder_checkpoint=checkpoints/vocoder/english2019/version1/model.ckpt-xxxxxx.pt in_dir=zerospeech/2019 out_dir=results/z2019en/reconstruction synthesis_list=./target.json dataset=2019/english"
      ]
    },
    {
      "cell_type": "markdown",
      "metadata": {
        "id": "LhpekjFOb4i1"
      },
      "source": [
        "### Voice Conversion"
      ]
    },
    {
      "cell_type": "code",
      "execution_count": null,
      "metadata": {
        "id": "YLKfisBmolIJ"
      },
      "outputs": [],
      "source": [
        "# Speaker-pairs: Reproduce the result of [official demo](https://bshall.github.io/VectorQuantizedCPC/)\n",
        "\n",
        "import json\n",
        "\n",
        "origin_A = [\n",
        "  [\"S022\", \"0799854662\"], \n",
        "  [\"S008\", \"2684330882\"],\n",
        "  [\"S007\", \"0204997433\"],\n",
        "  [\"S011\", \"3385425823\"],\n",
        "  [\"S006\", \"2068766372\"],\n",
        "]\n",
        "target_A = [\"V001\", \"S040\", \"S056\", \"S074\", \"S090\"]\n",
        "\n",
        "origin_B = [\n",
        "  [\"S003\", \"1178890909\"],\n",
        "  [\"S022\", \"0598465739\"],\n",
        "  [\"S019\", \"2784269462\"],\n",
        "  [\"S030\", \"1756493637\"],\n",
        "  [\"S009\", \"2963764176\"],\n",
        "]\n",
        "target_B = [\"V002\", \"S040\", \"S056\", \"S074\", \"S090\"]\n",
        "\n",
        "\n",
        "conversion_spec = []\n",
        "for (spk_org, utter_id) in origin_A:\n",
        "  for spk_tgt in target_A:\n",
        "    conversion_spec.append([f\"english/test/{spk_org}_{utter_id}\", spk_tgt, f\"{spk_org}_to_{spk_tgt}_{utter_id}\"])\n",
        "for (spk_org, utter_id) in origin_B:\n",
        "  for spk_tgt in target_B:\n",
        "    conversion_spec.append([f\"english/test/{spk_org}_{utter_id}\", spk_tgt, f\"{spk_org}_to_{spk_tgt}_{utter_id}\"])\n",
        "content_vc = json.dumps(conversion_spec)\n",
        "\n",
        "with open(\"./target_vc.json\", mode=\"w\") as f:\n",
        "    f.write(content_vc)"
      ]
    },
    {
      "cell_type": "code",
      "execution_count": null,
      "metadata": {
        "id": "7yb9L6JbnV2a"
      },
      "outputs": [],
      "source": [
        "# VC\n",
        "!python convert.py cpc_checkpoint=checkpoints/cpc/english2019/model.ckpt-22000.pt vocoder_checkpoint=checkpoints/vocoder/english2019/version1/model.ckpt-xxxxxx.pt in_dir=zerospeech/2019 out_dir=results/z2019en/vc synthesis_list=./target_vc.json dataset=2019/english"
      ]
    }
  ],
  "metadata": {
    "accelerator": "GPU",
    "colab": {
      "collapsed_sections": [
        "K125Ein7VCwM",
        "4yyPrl2TbJqz"
      ],
      "name": "VQ-CPC_inference.ipynb",
      "private_outputs": true,
      "provenance": []
    },
    "kernelspec": {
      "display_name": "Python 3",
      "name": "python3"
    }
  },
  "nbformat": 4,
  "nbformat_minor": 0
}
