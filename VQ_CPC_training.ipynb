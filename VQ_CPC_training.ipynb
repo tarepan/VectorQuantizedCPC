{
  "cells": [
    {
      "cell_type": "markdown",
      "metadata": {
        "id": "tdhd5TPUAST9"
      },
      "source": [
        "# VQ-CPC: Training\n",
        "[![Generic badge](https://img.shields.io/badge/GitHub-VQ_CPC-9cf.svg)][github]\n",
        "[![Open In Colab](https://colab.research.google.com/assets/colab-badge.svg)][notebook]\n",
        "\n",
        "Notebook Author: [tarepan]\n",
        "\n",
        "[github]:https://github.com/tarepan/VectorQuantizedCPC\n",
        "[notebook]:https://colab.research.google.com/github/tarepan/VectorQuantizedCPC/blob/master/VQ_CPC_training.ipynb\n",
        "[tarepan]:https://github.com/tarepan"
      ]
    },
    {
      "cell_type": "markdown",
      "metadata": {
        "id": "aZfpauCQEkhx"
      },
      "source": [
        "Training of VQ-CPC with Zerospeech2019 dataset."
      ]
    },
    {
      "cell_type": "markdown",
      "metadata": {
        "id": "2hwiOClKr6Nz"
      },
      "source": [
        "## Colab Check"
      ]
    },
    {
      "cell_type": "code",
      "execution_count": null,
      "metadata": {
        "id": "jgsq2qEpro65"
      },
      "outputs": [],
      "source": [
        "!cat /proc/uptime | awk '{print $1 /60 /60 /24 \"days (\" $1 \"sec)\"}'\n",
        "!head -n 1 /proc/driver/nvidia/gpus/**/information\n",
        "!python --version\n",
        "!pip show torch | sed '2!d'\n",
        "!/usr/local/cuda/bin/nvcc --version | sed '4!d'"
      ]
    },
    {
      "cell_type": "markdown",
      "metadata": {
        "id": "K125Ein7VCwM"
      },
      "source": [
        "## Setup\n",
        "<!-- Install the package from tarepan/UniversalVocoding public repository -->"
      ]
    },
    {
      "cell_type": "code",
      "execution_count": null,
      "metadata": {
        "id": "UZDExTGGsdtS"
      },
      "outputs": [],
      "source": [
        "# GoogleDrive\n",
        "from google.colab import drive\n",
        "drive.mount('/content/gdrive')\n",
        "\n",
        "# # repository install\n",
        "# !pip uninstall vqcpc -y -q\n",
        "# !pip install git+https://github.com/tarepan/VectorQuantizedCPC -q"
      ]
    },
    {
      "cell_type": "code",
      "execution_count": null,
      "metadata": {
        "id": "DW3nHnpaBesa"
      },
      "outputs": [],
      "source": [
        "# Clone the repository\n",
        "!git clone https://github.com/tarepan/VectorQuantizedCPC.git\n",
        "%cd VectorQuantizedCPC\n",
        "\n",
        "# !pip install \"torch==1.10.0\"      # Based on your PyTorch environment\n",
        "# !pip install \"torchaudio==0.10.0\" # Based on your PyTorch environment\n",
        "!pip install \"torchaudio==0.10.0\" -f https://download.pytorch.org/whl/cu111/torch_stable.html # Based on your PyTorch environment\n",
        "\n",
        "!pip install git+https://github.com/tarepan/UniversalVocoding.git\n",
        "!pip install git+https://github.com/tarepan/corpuspy.git\n",
        "\n",
        "# Install dependencies\n",
        "!pip install -r requirements.txt"
      ]
    },
    {
      "cell_type": "code",
      "execution_count": null,
      "metadata": {
        "id": "X69I5NL8sJTr"
      },
      "outputs": [],
      "source": [
        "# Download pre-trained model weights\n",
        "! wget https://github.com/bshall/VectorQuantizedCPC/releases/download/v0.1/checkpoints.zip\n",
        "! unzip checkpoints.zip"
      ]
    },
    {
      "cell_type": "markdown",
      "metadata": {
        "id": "aFAWWRdFlohV"
      },
      "source": [
        "## Training"
      ]
    },
    {
      "cell_type": "markdown",
      "metadata": {},
      "source": [
        "### Encoder"
      ]
    },
    {
      "cell_type": "code",
      "execution_count": null,
      "metadata": {},
      "outputs": [],
      "source": [
        "# Launch TensorBoard\n",
        "# %load_ext tensorboard\n",
        "# %tensorboard --logdir ../gdrive/MyDrive/ML_results/vqcpc/enc\n",
        "\n",
        "!python train_cpc.py \\\n",
        "    data.dataset.adress_data_root=../gdrive/MyDrive/ML_data \\\n",
        "    checkpoint_dir=../gdrive/MyDrive/ML_results/vqcpc/enc/default/version_1 \\"
      ]
    },
    {
      "cell_type": "markdown",
      "metadata": {
        "id": "zwv0_fNYXGos"
      },
      "source": [
        "### Vocoder"
      ]
    },
    {
      "cell_type": "code",
      "execution_count": null,
      "metadata": {
        "id": "JiOoPnEiXGot"
      },
      "outputs": [],
      "source": [
        "# Launch TensorBoard\n",
        "%load_ext tensorboard\n",
        "%tensorboard --logdir ../gdrive/MyDrive/ML_results/vqcpc\n",
        "\n",
        "!python train_vocoder_main.py \\\n",
        "    data.dataset.adress_data_root=../gdrive/MyDrive/ML_data \\\n",
        "    cpc_checkpoint=checkpoints/cpc/english2019/model.ckpt-22000.pt \\\n",
        "    training_vocoder.ckpt_log.dir_root=../gdrive/MyDrive/ML_results/vqcpc \\\n",
        "    training_vocoder.ckpt_log.name_exp=default \\\n",
        "    training_vocoder.ckpt_log.name_version=version_-1"
      ]
    },
    {
      "cell_type": "markdown",
      "metadata": {
        "id": "G1cxVOf4XGou"
      },
      "source": [
        "## Evaluation"
      ]
    },
    {
      "cell_type": "markdown",
      "metadata": {
        "id": "4yyPrl2TbJqz"
      },
      "source": [
        "### Reconstruction"
      ]
    },
    {
      "cell_type": "code",
      "execution_count": null,
      "metadata": {
        "id": "A2snJiZ1bMFK"
      },
      "outputs": [],
      "source": [
        "# Data selection: Reconstruct 5 utterances from 5 speakers.\n",
        "\n",
        "import json\n",
        "\n",
        "origin_A = [\n",
        "  [\"S021\", \"0333236104\"], \n",
        "  [\"S023\", \"0136759263\"], \n",
        "  [\"S027\", \"0007162015\"],\n",
        "  [\"S031\", \"0024528166\"],\n",
        "  [\"S032\", \"0057067061\"],\n",
        "]\n",
        "\n",
        "reconstruction_spec = []\n",
        "for (spk_org, utter_id) in origin_A:\n",
        "  spk_tgt = spk_org\n",
        "  reconstruction_spec.append([f\"english/train/unit/{spk_org}_{utter_id}\", spk_tgt, f\"{spk_org}_to_{spk_tgt}_{utter_id}\"])\n",
        "content_reconstruction = json.dumps(reconstruction_spec)\n",
        "\n",
        "with open(\"./target.json\", mode=\"w\") as f:\n",
        "    f.write(content_reconstruction)"
      ]
    },
    {
      "cell_type": "code",
      "execution_count": null,
      "metadata": {
        "id": "oUMrmpo7btiT"
      },
      "outputs": [],
      "source": [
        "# Reconstruction\n",
        "!python convert.py cpc_checkpoint=checkpoints/cpc/english2019/model.ckpt-22000.pt vocoder_checkpoint=checkpoints/vocoder/english2019/version1/model.ckpt-xxxxxx.pt in_dir=zerospeech/2019 out_dir=results/z2019en/reconstruction synthesis_list=./target.json dataset=2019/english"
      ]
    },
    {
      "cell_type": "markdown",
      "metadata": {
        "id": "LhpekjFOb4i1"
      },
      "source": [
        "### Voice Conversion"
      ]
    },
    {
      "cell_type": "code",
      "execution_count": null,
      "metadata": {
        "id": "YLKfisBmolIJ"
      },
      "outputs": [],
      "source": [
        "# Speaker-pairs: Reproduce the result of [official demo](https://bshall.github.io/VectorQuantizedCPC/)\n",
        "\n",
        "import json\n",
        "\n",
        "origin_A = [\n",
        "  [\"S022\", \"0799854662\"], \n",
        "  [\"S008\", \"2684330882\"],\n",
        "  [\"S007\", \"0204997433\"],\n",
        "  [\"S011\", \"3385425823\"],\n",
        "  [\"S006\", \"2068766372\"],\n",
        "]\n",
        "target_A = [\"V001\", \"S040\", \"S056\", \"S074\", \"S090\"]\n",
        "\n",
        "origin_B = [\n",
        "  [\"S003\", \"1178890909\"],\n",
        "  [\"S022\", \"0598465739\"],\n",
        "  [\"S019\", \"2784269462\"],\n",
        "  [\"S030\", \"1756493637\"],\n",
        "  [\"S009\", \"2963764176\"],\n",
        "]\n",
        "target_B = [\"V002\", \"S040\", \"S056\", \"S074\", \"S090\"]\n",
        "\n",
        "\n",
        "conversion_spec = []\n",
        "for (spk_org, utter_id) in origin_A:\n",
        "  for spk_tgt in target_A:\n",
        "    conversion_spec.append([f\"english/test/{spk_org}_{utter_id}\", spk_tgt, f\"{spk_org}_to_{spk_tgt}_{utter_id}\"])\n",
        "for (spk_org, utter_id) in origin_B:\n",
        "  for spk_tgt in target_B:\n",
        "    conversion_spec.append([f\"english/test/{spk_org}_{utter_id}\", spk_tgt, f\"{spk_org}_to_{spk_tgt}_{utter_id}\"])\n",
        "content_vc = json.dumps(conversion_spec)\n",
        "\n",
        "with open(\"./target_vc.json\", mode=\"w\") as f:\n",
        "    f.write(content_vc)"
      ]
    },
    {
      "cell_type": "code",
      "execution_count": null,
      "metadata": {
        "id": "7yb9L6JbnV2a"
      },
      "outputs": [],
      "source": [
        "# VC\n",
        "!python convert.py cpc_checkpoint=checkpoints/cpc/english2019/model.ckpt-22000.pt vocoder_checkpoint=checkpoints/vocoder/english2019/version1/model.ckpt-xxxxxx.pt in_dir=zerospeech/2019 out_dir=results/z2019en/vc synthesis_list=./target_vc.json dataset=2019/english"
      ]
    }
  ],
  "metadata": {
    "kernelspec": {
      "display_name": "Python 3.7.12 64-bit",
      "name": "python3712jvsc74a57bd04cd7ab41f5fca4b9b44701077e38c5ffd31fe66a6cab21e0214b68d958d0e462"
    },
    "language_info": {
      "name": "python",
      "version": ""
    },
    "metadata": {
      "interpreter": {
        "hash": "4cd7ab41f5fca4b9b44701077e38c5ffd31fe66a6cab21e0214b68d958d0e462"
      }
    },
    "orig_nbformat": 3
  },
  "nbformat": 4,
  "nbformat_minor": 0
}
